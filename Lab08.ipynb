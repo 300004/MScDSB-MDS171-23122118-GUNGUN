{
 "cells": [
  {
   "cell_type": "code",
   "execution_count": 8,
   "metadata": {},
   "outputs": [
    {
     "name": "stdout",
     "output_type": "stream",
     "text": [
      "Menu Driven Program\n",
      "**************************************************\n",
      "1. Push item in a list\n",
      "2. Pop item in a list\n",
      "3. The list is\n",
      "4. Length of the list is\n",
      "5. check if the list is empty\n",
      "Menu Driven Program\n",
      "**************************************************\n",
      "1. Push item in a list\n",
      "2. Pop item in a list\n",
      "3. The list is\n",
      "4. Length of the list is\n",
      "5. check if the list is empty\n",
      "Menu Driven Program\n",
      "**************************************************\n",
      "1. Push item in a list\n",
      "2. Pop item in a list\n",
      "3. The list is\n",
      "4. Length of the list is\n",
      "5. check if the list is empty\n",
      "2\n",
      "Menu Driven Program\n",
      "**************************************************\n",
      "1. Push item in a list\n",
      "2. Pop item in a list\n",
      "3. The list is\n",
      "4. Length of the list is\n",
      "5. check if the list is empty\n"
     ]
    },
    {
     "ename": "ValueError",
     "evalue": "invalid literal for int() with base 10: ''",
     "output_type": "error",
     "traceback": [
      "\u001b[1;31m---------------------------------------------------------------------------\u001b[0m",
      "\u001b[1;31mValueError\u001b[0m                                Traceback (most recent call last)",
      "\u001b[1;32mc:\\Users\\win10\\Desktop\\MScDSB-MDS171-23122118-GUNGUN\\MScDSB-MDS171-23122118-GUNGUN\\Lab08.ipynb Cell 1\u001b[0m line \u001b[0;36m3\n\u001b[0;32m     <a href='vscode-notebook-cell:/c%3A/Users/win10/Desktop/MScDSB-MDS171-23122118-GUNGUN/MScDSB-MDS171-23122118-GUNGUN/Lab08.ipynb#W0sZmlsZQ%3D%3D?line=30'>31</a>\u001b[0m \u001b[39mprint\u001b[39m(\u001b[39m\"\u001b[39m\u001b[39m4. Length of the list is\u001b[39m\u001b[39m\"\u001b[39m)\n\u001b[0;32m     <a href='vscode-notebook-cell:/c%3A/Users/win10/Desktop/MScDSB-MDS171-23122118-GUNGUN/MScDSB-MDS171-23122118-GUNGUN/Lab08.ipynb#W0sZmlsZQ%3D%3D?line=31'>32</a>\u001b[0m \u001b[39mprint\u001b[39m(\u001b[39m\"\u001b[39m\u001b[39m5. check if the list is empty\u001b[39m\u001b[39m\"\u001b[39m)\n\u001b[1;32m---> <a href='vscode-notebook-cell:/c%3A/Users/win10/Desktop/MScDSB-MDS171-23122118-GUNGUN/MScDSB-MDS171-23122118-GUNGUN/Lab08.ipynb#W0sZmlsZQ%3D%3D?line=33'>34</a>\u001b[0m choice\u001b[39m=\u001b[39m\u001b[39mint\u001b[39;49m(\u001b[39minput\u001b[39;49m(\u001b[39m\"\u001b[39;49m\u001b[39mEnter your choice\u001b[39;49m\u001b[39m\"\u001b[39;49m))\n\u001b[0;32m     <a href='vscode-notebook-cell:/c%3A/Users/win10/Desktop/MScDSB-MDS171-23122118-GUNGUN/MScDSB-MDS171-23122118-GUNGUN/Lab08.ipynb#W0sZmlsZQ%3D%3D?line=35'>36</a>\u001b[0m \u001b[39mif\u001b[39;00m choice\u001b[39m==\u001b[39m\u001b[39m1\u001b[39m:\n\u001b[0;32m     <a href='vscode-notebook-cell:/c%3A/Users/win10/Desktop/MScDSB-MDS171-23122118-GUNGUN/MScDSB-MDS171-23122118-GUNGUN/Lab08.ipynb#W0sZmlsZQ%3D%3D?line=36'>37</a>\u001b[0m     item\u001b[39m=\u001b[39m\u001b[39minput\u001b[39m(\u001b[39m\"\u001b[39m\u001b[39menter the item\u001b[39m\u001b[39m\"\u001b[39m)\n",
      "\u001b[1;31mValueError\u001b[0m: invalid literal for int() with base 10: ''"
     ]
    }
   ],
   "source": [
    "class stack:\n",
    "    def __init__(self):\n",
    "        self.items=[]\n",
    "    def push(self,item):\n",
    "        self.items.append(item)\n",
    "    def pop(self):\n",
    "        if self.items==[]:\n",
    "            return None\n",
    "        else:\n",
    "            return self.items.pop()\n",
    "    def print(self):\n",
    "        print(\"STACK:\",self.items)\n",
    "    def length(self):\n",
    "        print(len(self.items))\n",
    "    def top_item(self):\n",
    "        return self.items[-1]\n",
    "    def is_empty(self):\n",
    "        if len(self.items)==0:\n",
    "            return False\n",
    "        else:\n",
    "            return True\n",
    "        \n",
    "push_pop=stack()\n",
    "        \n",
    "while True:\n",
    "    print(\"Menu Driven Program\")\n",
    "    print(\"*\"*50)\n",
    "    print(\"1. Push item in a list\")\n",
    "    print(\"2. Pop item in a list\")\n",
    "    print(\"3. The list is\")\n",
    "    print(\"4. Length of the list is\")\n",
    "    print(\"5. check if the list is empty\")\n",
    "\n",
    "    choice=int(input(\"Enter your choice\"))\n",
    "\n",
    "    if choice==1:\n",
    "        item=input(\"enter the item\")\n",
    "        push_pop.push(item)\n",
    "    elif choice==2:\n",
    "        push_pop.pop()\n",
    "    elif choice==3:\n",
    "        push_pop.print()\n",
    "    elif choice==4:\n",
    "        push_pop.length()\n",
    "    elif choice==5:\n",
    "        push_pop.is_empty()\n",
    "    else:\n",
    "        print(\"Exit\")                                                   "
   ]
  },
  {
   "cell_type": "code",
   "execution_count": null,
   "metadata": {},
   "outputs": [],
   "source": []
  }
 ],
 "metadata": {
  "kernelspec": {
   "display_name": "Python 3",
   "language": "python",
   "name": "python3"
  },
  "language_info": {
   "codemirror_mode": {
    "name": "ipython",
    "version": 3
   },
   "file_extension": ".py",
   "mimetype": "text/x-python",
   "name": "python",
   "nbconvert_exporter": "python",
   "pygments_lexer": "ipython3",
   "version": "3.8.3"
  },
  "orig_nbformat": 4
 },
 "nbformat": 4,
 "nbformat_minor": 2
}
