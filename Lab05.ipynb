{
 "cells": [
  {
   "cell_type": "code",
   "execution_count": 19,
   "metadata": {},
   "outputs": [
    {
     "name": "stdout",
     "output_type": "stream",
     "text": [
      "HIHOWAREYOU\n",
      "I\n",
      "O\n",
      "A\n",
      "E\n",
      "O\n",
      "U\n",
      "Total no of A: 1\n",
      "Total no of E: 1\n",
      "Total no of I: 1\n",
      "Total no of O: 2\n",
      "Total no of U: 1\n",
      "Total count of vowels is: 6\n",
      "Percentage of vowels: 54.54545454545455\n"
     ]
    }
   ],
   "source": [
    "user_input=input(\"Enter a string\")\n",
    "user_input=user_input.upper()\n",
    "user_input=user_input.replace(\" \",\"\")\n",
    "length=len(user_input)\n",
    "print(user_input)\n",
    "count1=0\n",
    "count2=0\n",
    "count3=0\n",
    "count4=0\n",
    "count5=0\n",
    "for i in user_input:\n",
    "    if i==\"A\":\n",
    "        print(i)\n",
    "        count1=count1+1\n",
    "    elif i==\"E\":\n",
    "        print(i)\n",
    "        count2=count2+1\n",
    "    elif i==\"I\":\n",
    "        print(i)\n",
    "        count3=count3+1\n",
    "    elif i==\"O\":\n",
    "        print(i)\n",
    "        count4=count4+1\n",
    "    elif i==\"U\":\n",
    "        print(i)\n",
    "        count5=count5+1\n",
    "total_vowels=count1+count2+count3+count4+count5\n",
    "per_vowels=(int(total_vowels)*100)/int(length)\n",
    "print(\"Total no of A:\",count1)\n",
    "print(\"Total no of E:\",count2)\n",
    "print(\"Total no of I:\",count3)\n",
    "print(\"Total no of O:\",count4)\n",
    "print(\"Total no of U:\",count5)\n",
    "print(\"Total count of vowels is:\",total_vowels)\n",
    "print(\"Percentage of vowels:\",per_vowels)\n",
    "\n",
    "\n",
    "\n",
    "\n",
    "    \n",
    "\n",
    "\n"
   ]
  }
 ],
 "metadata": {
  "kernelspec": {
   "display_name": "Python 3",
   "language": "python",
   "name": "python3"
  },
  "language_info": {
   "codemirror_mode": {
    "name": "ipython",
    "version": 3
   },
   "file_extension": ".py",
   "mimetype": "text/x-python",
   "name": "python",
   "nbconvert_exporter": "python",
   "pygments_lexer": "ipython3",
   "version": "3.8.3"
  },
  "orig_nbformat": 4
 },
 "nbformat": 4,
 "nbformat_minor": 2
}
