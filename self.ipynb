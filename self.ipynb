{
 "cells": [
  {
   "cell_type": "code",
   "execution_count": null,
   "metadata": {},
   "outputs": [],
   "source": [
    "import csv\n",
    "list=[]\n",
    "Fields=[\"Item\",\"Quantity\",\"Price\"]\n",
    "for i in range(3):\n",
    "    item=input(\"Enter the item name\")\n",
    "    quantity=input(\"Enter the quantity\")\n",
    "    price=input(\"Enter the price\")\n",
    "    list.append([item,quantity,price])\n",
    "\n",
    "with open (\"item list.csv\",\"w\",newline=\"\\n\") as file:\n",
    "    csvwriter=csv.writer(file)\n",
    "    csvwriter.writerow(Fields)\n",
    "    csvwriter.writerows(list)\n",
    "\n",
    "with open(\"item list.csv\",\"r\") as file:\n",
    "    csvreader=csv.reader(file)\n",
    "    next(csvreader)\n",
    "    for row in csvreader:\n",
    "        print(csvreader.line_num)\n",
    "        item,quantity,price=row\n",
    "        quantity=int(quantity)\n",
    "        price=int(price)\n",
    "        Total_amount=quantity*price\n",
    "        print(\"Item:\",item,\"quantity:\",quantity,\"total amount:\",Total_amount)\n",
    "\n",
    "\n"
   ]
  },
  {
   "cell_type": "code",
   "execution_count": 9,
   "metadata": {},
   "outputs": [
    {
     "name": "stdout",
     "output_type": "stream",
     "text": [
      "65000\n"
     ]
    }
   ],
   "source": [
    "import csv\n",
    "class expense_Tracker:\n",
    "    def __init__(self):\n",
    "        self.income=[]\n",
    "        self.expenditure=[]\n",
    "\n",
    "    def append(self,amount,category,date,type):\n",
    "        temp={\n",
    "            \"Amount\":amount,\n",
    "            \"Category\":category,\n",
    "            \"date\":date\n",
    "        }\n",
    "\n",
    "        if type==\"income\":\n",
    "            self.income.append(temp)\n",
    "        else:\n",
    "            self.expenditure.append(temp)\n",
    "\n",
    "    def print_income(self):\n",
    "        Total_amount=0\n",
    "        for item in self.income:\n",
    "            Total_amount=Total_amount+item[\"Amount\"]\n",
    "        print(Total_amount)\n",
    "\n",
    "    def export_to_csv(self,Filename):\n",
    "        field=[\"Amount\",\"Category\",\"date\"]\n",
    "        with open(Filename,\"w\",newline=\"\\n\") as file:\n",
    "            csvwriter=csv.DictWriter(file,fieldnames=field)\n",
    "            csvwriter.writeheader()\n",
    "            for item in self.income:\n",
    "                csvwriter.writerow(item)\n",
    "        \n",
    "\n",
    "\n",
    "expense=expense_Tracker()\n",
    "expense.append(50000,\"salary\",\"11/10/23\",\"income\")\n",
    "expense.append(15000,\"FD\",\"12/10/23\",\"income\")\n",
    "expense.print_income()\n",
    "expense.export_to_csv(\"income.csv\")\n",
    "\n",
    "\n",
    "\n",
    "        "
   ]
  },
  {
   "cell_type": "markdown",
   "metadata": {},
   "source": [
    "\n",
    "\n",
    "\n"
   ]
  }
 ],
 "metadata": {
  "kernelspec": {
   "display_name": "Python 3",
   "language": "python",
   "name": "python3"
  },
  "language_info": {
   "codemirror_mode": {
    "name": "ipython",
    "version": 3
   },
   "file_extension": ".py",
   "mimetype": "text/x-python",
   "name": "python",
   "nbconvert_exporter": "python",
   "pygments_lexer": "ipython3",
   "version": "3.8.3"
  }
 },
 "nbformat": 4,
 "nbformat_minor": 2
}
