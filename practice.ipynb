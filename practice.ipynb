{
 "cells": [
  {
   "cell_type": "code",
   "execution_count": 55,
   "metadata": {},
   "outputs": [
    {
     "name": "stdout",
     "output_type": "stream",
     "text": [
      "{'dogs': [{'breed': 'pitbull', 'name': 'sheru', 'age': 1}, {'breed': 'German Shephard', 'name': 'adam', 'age': 1}], 'cats': [], 'rabbits': [], 'parrots': []}\n",
      "{'dogs': [{'breed': 'German Shephard', 'name': 'adam', 'age': 1}], 'cats': [], 'rabbits': [], 'parrots': []}\n",
      "{'breed': 'German Shephard', 'name': 'adam', 'age': '1'}\n"
     ]
    }
   ],
   "source": [
    "import csv\n",
    "class petstore:\n",
    "    def __init__(self):\n",
    "        self.pets={\n",
    "            \"dogs\":[],\n",
    "            \"cats\":[],\n",
    "            \"rabbits\":[],\n",
    "            \"parrots\":[]\n",
    "        }\n",
    "\n",
    "    def add_pet(self,type,breed,name,age):\n",
    "        temp={\n",
    "            \"breed\":breed,\n",
    "            \"name\":name,\n",
    "            \"age\":age\n",
    "              }\n",
    "        for species in self.pets:\n",
    "            if species==type:\n",
    "                self.pets[species].append(temp)\n",
    "    \n",
    "    def show_pets(self):\n",
    "        print(self.pets)\n",
    "\n",
    "    def search_pet(self,type,breed):\n",
    "        for species in self.pets:\n",
    "            if species==type:\n",
    "                for i in self.pets[species]:\n",
    "                    if breed==i[\"breed\"]:\n",
    "                        print(\"yes\")\n",
    "\n",
    "    def sell_pet(self,type,breed):\n",
    "        for items in self.pets[type]:\n",
    "            if breed==items[\"breed\"]:\n",
    "                self.pets[type].remove(items)\n",
    "\n",
    "    def updated_pets(self):\n",
    "        print(self.pets)\n",
    "\n",
    "    def export_to_csv(self,filename):\n",
    "        fields=[\"breed\",\"name\",\"age\"]\n",
    "        with open(filename,\"w\",newline=\"\\n\") as file:\n",
    "            csvwriter=csv.DictWriter(file,fieldnames=fields)\n",
    "            csvwriter.writeheader()\n",
    "            for items in self.pets[\"dogs\"]:\n",
    "                csvwriter.writerow(items)\n",
    "        with open(filename,\"r\") as file:\n",
    "            csvreader=csv.DictReader(file,fieldnames=fields)\n",
    "            next(csvreader)\n",
    "            for rows in csvreader:\n",
    "                print(rows)\n",
    "\n",
    "\n",
    "pet_store=petstore()\n",
    "pet_store.add_pet(\"dogs\",\"pitbull\",\"sheru\",1)\n",
    "pet_store.add_pet(\"dogs\",\"German Shephard\",\"adam\",1)\n",
    "pet_store.show_pets()\n",
    "pet_store.search_pet(\"cats\",\"pitbull\")\n",
    "pet_store.sell_pet(\"dogs\",\"pitbull\")\n",
    "pet_store.updated_pets()\n",
    "pet_store.export_to_csv(\"pets.csv\")\n",
    "                \n",
    "    "
   ]
  },
  {
   "cell_type": "code",
   "execution_count": 74,
   "metadata": {},
   "outputs": [
    {
     "name": "stdout",
     "output_type": "stream",
     "text": [
      "{'87276': {'item': 'Pen', 'quantity': 2}, '78336': {'item': 'Eraser', 'quantity': 3}}\n",
      "name of item Pen \n",
      " The amount is 60\n",
      "name of item Eraser \n",
      " The amount is 15\n"
     ]
    },
    {
     "ename": "AttributeError",
     "evalue": "'str' object has no attribute 'keys'",
     "output_type": "error",
     "traceback": [
      "\u001b[1;31m---------------------------------------------------------------------------\u001b[0m",
      "\u001b[1;31mAttributeError\u001b[0m                            Traceback (most recent call last)",
      "\u001b[1;32mc:\\Users\\win10\\Desktop\\MScDSB-MDS171-23122118-GUNGUN\\practice.ipynb Cell 2\u001b[0m line \u001b[0;36m5\n\u001b[0;32m     <a href='vscode-notebook-cell:/c%3A/Users/win10/Desktop/MScDSB-MDS171-23122118-GUNGUN/practice.ipynb#W1sZmlsZQ%3D%3D?line=47'>48</a>\u001b[0m stationarystore\u001b[39m.\u001b[39mprint_orders()\n\u001b[0;32m     <a href='vscode-notebook-cell:/c%3A/Users/win10/Desktop/MScDSB-MDS171-23122118-GUNGUN/practice.ipynb#W1sZmlsZQ%3D%3D?line=48'>49</a>\u001b[0m stationarystore\u001b[39m.\u001b[39mamount()\n\u001b[1;32m---> <a href='vscode-notebook-cell:/c%3A/Users/win10/Desktop/MScDSB-MDS171-23122118-GUNGUN/practice.ipynb#W1sZmlsZQ%3D%3D?line=49'>50</a>\u001b[0m stationarystore\u001b[39m.\u001b[39;49mexport_to_csv(\u001b[39m\"\u001b[39;49m\u001b[39morders.csv\u001b[39;49m\u001b[39m\"\u001b[39;49m)\n",
      "\u001b[1;32mc:\\Users\\win10\\Desktop\\MScDSB-MDS171-23122118-GUNGUN\\practice.ipynb Cell 2\u001b[0m line \u001b[0;36m4\n\u001b[0;32m     <a href='vscode-notebook-cell:/c%3A/Users/win10/Desktop/MScDSB-MDS171-23122118-GUNGUN/practice.ipynb#W1sZmlsZQ%3D%3D?line=38'>39</a>\u001b[0m csvwriter\u001b[39m.\u001b[39mwriteheader()\n\u001b[0;32m     <a href='vscode-notebook-cell:/c%3A/Users/win10/Desktop/MScDSB-MDS171-23122118-GUNGUN/practice.ipynb#W1sZmlsZQ%3D%3D?line=39'>40</a>\u001b[0m \u001b[39mfor\u001b[39;00m items \u001b[39min\u001b[39;00m orders:\n\u001b[1;32m---> <a href='vscode-notebook-cell:/c%3A/Users/win10/Desktop/MScDSB-MDS171-23122118-GUNGUN/practice.ipynb#W1sZmlsZQ%3D%3D?line=40'>41</a>\u001b[0m     csvwriter\u001b[39m.\u001b[39;49mwriterow(items)\n",
      "File \u001b[1;32mc:\\Users\\win10\\AppData\\Local\\Programs\\Python\\Python38-32\\lib\\csv.py:154\u001b[0m, in \u001b[0;36mDictWriter.writerow\u001b[1;34m(self, rowdict)\u001b[0m\n\u001b[0;32m    153\u001b[0m \u001b[39mdef\u001b[39;00m \u001b[39mwriterow\u001b[39m(\u001b[39mself\u001b[39m, rowdict):\n\u001b[1;32m--> 154\u001b[0m     \u001b[39mreturn\u001b[39;00m \u001b[39mself\u001b[39m\u001b[39m.\u001b[39mwriter\u001b[39m.\u001b[39mwriterow(\u001b[39mself\u001b[39;49m\u001b[39m.\u001b[39;49m_dict_to_list(rowdict))\n",
      "File \u001b[1;32mc:\\Users\\win10\\AppData\\Local\\Programs\\Python\\Python38-32\\lib\\csv.py:147\u001b[0m, in \u001b[0;36mDictWriter._dict_to_list\u001b[1;34m(self, rowdict)\u001b[0m\n\u001b[0;32m    145\u001b[0m \u001b[39mdef\u001b[39;00m \u001b[39m_dict_to_list\u001b[39m(\u001b[39mself\u001b[39m, rowdict):\n\u001b[0;32m    146\u001b[0m     \u001b[39mif\u001b[39;00m \u001b[39mself\u001b[39m\u001b[39m.\u001b[39mextrasaction \u001b[39m==\u001b[39m \u001b[39m\"\u001b[39m\u001b[39mraise\u001b[39m\u001b[39m\"\u001b[39m:\n\u001b[1;32m--> 147\u001b[0m         wrong_fields \u001b[39m=\u001b[39m rowdict\u001b[39m.\u001b[39;49mkeys() \u001b[39m-\u001b[39m \u001b[39mself\u001b[39m\u001b[39m.\u001b[39mfieldnames\n\u001b[0;32m    148\u001b[0m         \u001b[39mif\u001b[39;00m wrong_fields:\n\u001b[0;32m    149\u001b[0m             \u001b[39mraise\u001b[39;00m \u001b[39mValueError\u001b[39;00m(\u001b[39m\"\u001b[39m\u001b[39mdict contains fields not in fieldnames: \u001b[39m\u001b[39m\"\u001b[39m\n\u001b[0;32m    150\u001b[0m                              \u001b[39m+\u001b[39m \u001b[39m\"\u001b[39m\u001b[39m, \u001b[39m\u001b[39m\"\u001b[39m\u001b[39m.\u001b[39mjoin([\u001b[39mrepr\u001b[39m(x) \u001b[39mfor\u001b[39;00m x \u001b[39min\u001b[39;00m wrong_fields]))\n",
      "\u001b[1;31mAttributeError\u001b[0m: 'str' object has no attribute 'keys'"
     ]
    }
   ],
   "source": [
    "import random\n",
    "class stationary_store:\n",
    "    def __init__(self):\n",
    "        self.items={\n",
    "            \"Pen\":30,\n",
    "            \"Eraser\":5,\n",
    "            \"Pencil\":15\n",
    "        }\n",
    "        self.orders={}\n",
    "\n",
    "    def customer_order(self,item,quantity):\n",
    "        orderid=\"\"\n",
    "        for i in range(5):\n",
    "            orderid+=str(random.randint(i,10))\n",
    "        temp={\n",
    "            \"item\":item,\n",
    "            \"quantity\":quantity}\n",
    "        self.orders[orderid]=temp\n",
    "\n",
    "    def print_orders(self):\n",
    "        print(self.orders)\n",
    "\n",
    "    def amount(self):\n",
    "        amt=0\n",
    "        for orderid in self.orders:\n",
    "            order=self.orders[orderid]\n",
    "            item=order[\"item\"].strip()\n",
    "            qty=order[\"quantity\"]\n",
    "            price=self.items[item]\n",
    "            amt=qty*price\n",
    "            print(\"name of item\",item,\"\\n The amount is\",amt)\n",
    "\n",
    "    def export_to_csv(self,filename):\n",
    "        fields=[\"item\",\"quantity\"]\n",
    "        with open(filename,\"w\",newline='\\n') as file:\n",
    "            for orderid in self.orders:\n",
    "                orders=self.orders[orderid]\n",
    "                csvwriter=csv.DictWriter(file,fieldnames=fields)\n",
    "                csvwriter.writeheader()\n",
    "                for items in orders:\n",
    "                    csvwriter.writerow(items)\n",
    "\n",
    "            \n",
    "\n",
    "stationarystore=stationary_store()\n",
    "stationarystore.customer_order(\"Pen\",2)\n",
    "stationarystore.customer_order(\"Eraser\",3)\n",
    "stationarystore.print_orders()\n",
    "stationarystore.amount()\n",
    "stationarystore.export_to_csv(\"orders.csv\")\n",
    "\n",
    "            "
   ]
  },
  {
   "cell_type": "code",
   "execution_count": null,
   "metadata": {},
   "outputs": [],
   "source": []
  }
 ],
 "metadata": {
  "kernelspec": {
   "display_name": "Python 3",
   "language": "python",
   "name": "python3"
  },
  "language_info": {
   "codemirror_mode": {
    "name": "ipython",
    "version": 3
   },
   "file_extension": ".py",
   "mimetype": "text/x-python",
   "name": "python",
   "nbconvert_exporter": "python",
   "pygments_lexer": "ipython3",
   "version": "3.8.3"
  }
 },
 "nbformat": 4,
 "nbformat_minor": 2
}
