{
 "cells": [
  {
   "cell_type": "code",
   "execution_count": null,
   "metadata": {},
   "outputs": [],
   "source": [
    "msg= \"christ university lavasa\"\n",
    "print(msg[7]) #to access character in a particular function\n",
    "print(len(msg)) #to find the length of a string\n",
    "for i in msg:   #to extract each character\n",
    "    print(i)\n",
    "    msg.upper() #to covert string to upper case\n",
    "    \n"
   ]
  },
  {
   "cell_type": "code",
   "execution_count": null,
   "metadata": {},
   "outputs": [],
   "source": [
    "msg= \"chRisT UniversIty Lavasa\"\n",
    "msg.upper()\n",
    "msg.swapcase() #to covert upper to lower or lower to upper\n",
    "\n"
   ]
  },
  {
   "cell_type": "code",
   "execution_count": null,
   "metadata": {},
   "outputs": [],
   "source": [
    "name=\"         gungun      \"\n",
    "print(name.strip())  #strip function used to remove spaces between the start and end\n"
   ]
  },
  {
   "cell_type": "code",
   "execution_count": null,
   "metadata": {},
   "outputs": [],
   "source": [
    "numbers=\"2,3,4,5,6\"\n",
    "nos= numbers.split(',') #split() used to create list\n",
    "sum=0\n",
    "for item in nos:\n",
    "    temp=int(item) #typecasting\n",
    "    type(temp)\n",
    "    sum=sum+temp\n",
    "print(sum)\n",
    "\n",
    "\n",
    "    \n",
    "\n"
   ]
  },
  {
   "cell_type": "code",
   "execution_count": null,
   "metadata": {},
   "outputs": [],
   "source": [
    "name=input(\"Enter user name\")\n",
    "password=input(\"enter the password\")\n",
    "print(\"user name:{} and password is{}\".format(name,password)) #.format(a,b) is used to fill up values\n",
    "      \n"
   ]
  },
  {
   "cell_type": "code",
   "execution_count": null,
   "metadata": {},
   "outputs": [],
   "source": [
    "n=int(input(\"Enter the   value of n\"))\n",
    "sum=0\n",
    "for i in range(2,n+1,2):\n",
    "    sum=sum+i\n",
    "print(sum)    \n",
    "\n",
    "    "
   ]
  },
  {
   "cell_type": "code",
   "execution_count": null,
   "metadata": {},
   "outputs": [],
   "source": [
    "#list used to store data of any type\n",
    "nlist=[\"abc\",\"pqr\",23.55,2,44]\n",
    "print(nlist[3])\n",
    "print(nlist[-1]) #negative index start from last\n",
    "#list index out of bound(LIOB) means trying to access the value that list\n",
    "nlist.append(\"ten\")    #add new element to the list\n",
    "print(nlist)\n",
    "nlist.pop() #removes the last element from list\n",
    "print(nlist)\n",
    "nlist.remove(23.55) #remove specific element from list\n",
    "print(nlist)\n",
    "#          nlist.sort() #sorting\n",
    "\n",
    "\n",
    "\n",
    "\n"
   ]
  },
  {
   "cell_type": "code",
   "execution_count": null,
   "metadata": {},
   "outputs": [],
   "source": [
    "#FUNCTIONS\n",
    "def fname(n):\n",
    "    print(\"i am your first function\",n)\n",
    "    retval=\"SUCCESS\"\n",
    "    return retval\n",
    "\n",
    "name=\"gungun\"\n",
    "fname(name)\n",
    "#status=fname(name)\n",
    "#print(status)\n"
   ]
  },
  {
   "cell_type": "code",
   "execution_count": null,
   "metadata": {},
   "outputs": [],
   "source": [
    "#define a function that takes a list of numbers as input and return thr sum of numbers without any predefined functions\n",
    "def sumlist(lst):\n",
    "    sum=0\n",
    "    for i in lst:\n",
    "        temp=int(i)\n",
    "        sum=sum+temp\n",
    "    return sum\n",
    "a=input(\"enter number seperated by,\")\n",
    "nos=a.split(',')\n",
    "sum=sumlist(nos)\n",
    "print(\"sum\",sum)\n",
    "\n",
    "\n",
    "\n",
    "\n",
    "    "
   ]
  },
  {
   "cell_type": "code",
   "execution_count": null,
   "metadata": {},
   "outputs": [],
   "source": [
    "lst=[10,20,50,70,90]\n",
    "for item in lst:\n",
    "    print(item)\n",
    "for item in range(0,len(lst)):\n",
    "    print(lst[item])\n"
   ]
  },
  {
   "cell_type": "code",
   "execution_count": null,
   "metadata": {},
   "outputs": [],
   "source": [
    "#count the number odd and even number in the list and print the odd numbers count and even numbers count along with the numbers\n",
    "#you will have a function that will take a list of numbers then returns the count of odd numbers and even numbers and the new list of odd numbers and even numbers\n",
    "\n",
    "def count(lst):\n",
    "    c1=0\n",
    "    c2=0\n",
    "    odd=[]\n",
    "    even=[]\n",
    "    for i in lst:\n",
    "        temp=int(i)\n",
    "        if temp%2==0:\n",
    "           c1=c1+1\n",
    "           even.append(i) \n",
    "        else:\n",
    "            c2=c2+1\n",
    "            odd.append(i)\n",
    "    return c1,c2,even,odd\n",
    "userinp=input(\"enter numbers seperated by ,\")\n",
    "inp=userinp.split(',')\n",
    "c1,c2,even,odd=count(inp)\n",
    "print(\"count of even numbers is\", c1)\n",
    "print(\"count of odd numbers is\", c2)\n",
    "print(\"evenlist\", even)\n",
    "print(\"oddlist\", odd)\n",
    "\n",
    "\n",
    "            \n"
   ]
  },
  {
   "cell_type": "code",
   "execution_count": null,
   "metadata": {},
   "outputs": [],
   "source": [
    "arr=[\"zero\",\"one\",\"two\",\"three\",\"four\",\"five\",\"six\",\"seven\",\"eight\",\"nine\"]\n",
    "def num2words(n):\n",
    "    for i in n:\n",
    "        temp=int(i)\n",
    "        letter+=arr[temp]\n",
    "    return letter\n",
    "num2words(\"57\")\n"
   ]
  },
  {
   "cell_type": "code",
   "execution_count": 2,
   "metadata": {},
   "outputs": [
    {
     "data": {
      "text/plain": [
       "2.0"
      ]
     },
     "execution_count": 2,
     "metadata": {},
     "output_type": "execute_result"
    }
   ],
   "source": [
    "def summation(mean):\n",
    "    length=len(mean)\n",
    "    sum=0\n",
    "    for i in mean:\n",
    "        sum=sum+i\n",
    "    average=sum/length\n",
    "    return average\n",
    "summation([1,2,3])\n",
    "\n"
   ]
  },
  {
   "cell_type": "code",
   "execution_count": 7,
   "metadata": {},
   "outputs": [
    {
     "name": "stdout",
     "output_type": "stream",
     "text": [
      "sorted array is= ('sorted array is', [1, 5, 11, 20, 22, 69])\n"
     ]
    }
   ],
   "source": [
    "def sorting(sort):\n",
    "    for i in range(0,len(sort)):\n",
    "        for j in range(i+1,len(sort)):\n",
    "            if sort[i]>sort[j]:\n",
    "                temp=sort[i]\n",
    "                sort[i]=sort[j]\n",
    "                sort[j]=temp\n",
    "    return (\"sorted array is\",sort)\n",
    "arraysort=sorting([20,11,5,22,69,1])\n",
    "print(\"sorted array is=\",arraysort)"
   ]
  }
 ],
 "metadata": {
  "kernelspec": {
   "display_name": "Python 3",
   "language": "python",
   "name": "python3"
  },
  "language_info": {
   "codemirror_mode": {
    "name": "ipython",
    "version": 3
   },
   "file_extension": ".py",
   "mimetype": "text/x-python",
   "name": "python",
   "nbconvert_exporter": "python",
   "pygments_lexer": "ipython3",
   "version": "3.8.3"
  },
  "orig_nbformat": 4
 },
 "nbformat": 4,
 "nbformat_minor": 2
}
