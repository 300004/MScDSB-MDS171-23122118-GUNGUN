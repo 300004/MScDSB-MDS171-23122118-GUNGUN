{
 "cells": [
  {
   "cell_type": "code",
   "execution_count": null,
   "metadata": {},
   "outputs": [],
   "source": [
    "msg= \"christ university lavasa\"\n",
    "print(msg[7]) #to access character in a particular function\n",
    "print(len(msg)) #to find the length of a string\n",
    "for i in msg:   #to extract each character\n",
    "    print(i)\n",
    "    msg.upper() #to covert string to upper case\n",
    "    \n"
   ]
  },
  {
   "cell_type": "code",
   "execution_count": null,
   "metadata": {},
   "outputs": [],
   "source": [
    "name=\"         gungun      \"\n",
    "print(name.strip())  #strip function used to remove spaces between the start and end\n"
   ]
  },
  {
   "cell_type": "code",
   "execution_count": null,
   "metadata": {},
   "outputs": [],
   "source": [
    "numbers=\"2,3,4,5,6\"\n",
    "nos= numbers.split(',') #split() used to create list\n",
    "sum=0\n",
    "for item in nos:\n",
    "    temp=int(item) #typecasting\n",
    "    type(temp)\n",
    "    sum=sum+temp\n",
    "print(sum)\n",
    "\n",
    "\n",
    "    \n",
    "\n"
   ]
  },
  {
   "cell_type": "code",
   "execution_count": null,
   "metadata": {},
   "outputs": [],
   "source": [
    "name=input(\"Enter user name\")\n",
    "password=input(\"enter the password\")\n",
    "print(\"user name:{} and password is{}\".format(name,password)) #.format(a,b) is used to fill up values\n",
    "      \n"
   ]
  },
  {
   "cell_type": "code",
   "execution_count": null,
   "metadata": {},
   "outputs": [],
   "source": [
    "n=int(input(\"Enter the   value of n\"))\n",
    "sum=0\n",
    "for i in range(2,n+1,2):\n",
    "    sum=sum+i\n",
    "print(sum)    \n",
    "\n",
    "    "
   ]
  },
  {
   "cell_type": "code",
   "execution_count": null,
   "metadata": {},
   "outputs": [],
   "source": [
    "#list used to store data of any type\n",
    "nlist=[\"abc\",\"pqr\",23.55,2,44]\n",
    "print(nlist[3])\n",
    "print(nlist[-1]) #negative index start from last\n",
    "#list index out of bound(LIOB) means trying to access the value that list\n",
    "nlist.append(\"ten\")    #add new element to the list\n",
    "print(nlist)\n",
    "nlist.pop() #removes the last element from list\n",
    "print(nlist)\n",
    "nlist.remove(23.55) #remove specific element from list\n",
    "print(nlist)\n",
    "#          nlist.sort() #sorting\n",
    "\n",
    "\n",
    "\n",
    "\n"
   ]
  },
  {
   "cell_type": "code",
   "execution_count": null,
   "metadata": {},
   "outputs": [],
   "source": [
    "#FUNCTIONS\n",
    "def fname(n):\n",
    "    print(\"i am your first function\",n)\n",
    "    retval=\"SUCCESS\"\n",
    "    return retval\n",
    "\n",
    "name=\"gungun\"\n",
    "fname(name)\n",
    "#status=fname(name)\n",
    "#print(status)\n"
   ]
  },
  {
   "cell_type": "code",
   "execution_count": null,
   "metadata": {},
   "outputs": [],
   "source": [
    "#define a function that takes a list of numbers as input and return thr sum of numbers without any predefined functions\n",
    "def sumlist(lst):\n",
    "    sum=0\n",
    "    for i in lst:\n",
    "        temp=int(i)\n",
    "        sum=sum+temp\n",
    "    return sum\n",
    "a=input(\"enter number seperated by,\")\n",
    "nos=a.split(',')\n",
    "sum=sumlist(nos)\n",
    "print(\"sum\",sum)\n",
    "\n",
    "\n",
    "\n",
    "\n",
    "    "
   ]
  },
  {
   "cell_type": "code",
   "execution_count": null,
   "metadata": {},
   "outputs": [],
   "source": [
    "lst=[10,20,50,70,90]\n",
    "for item in lst:\n",
    "    print(item)\n",
    "for item in range(0,len(lst)):\n",
    "    print(lst[item])\n"
   ]
  },
  {
   "cell_type": "code",
   "execution_count": null,
   "metadata": {},
   "outputs": [],
   "source": [
    "#count the number odd and even number in the list and print the odd numbers count and even numbers count along with the numbers\n",
    "#you will have a function that will take a list of numbers then returns the count of odd numbers and even numbers and the new list of odd numbers and even numbers\n",
    "\n",
    "def count(lst):\n",
    "    c1=0\n",
    "    c2=0\n",
    "    odd=[]\n",
    "    even=[]\n",
    "    for i in lst:\n",
    "        temp=int(i)\n",
    "        if temp%2==0:\n",
    "           c1=c1+1\n",
    "           even.append(i) \n",
    "        else:\n",
    "            c2=c2+1\n",
    "            odd.append(i)\n",
    "    return c1,c2,even,odd\n",
    "userinp=input(\"enter numbers seperated by ,\")\n",
    "inp=userinp.split(',')\n",
    "c1,c2,even,odd=count(inp)\n",
    "print(\"count of even numbers is\", c1)\n",
    "print(\"count of odd numbers is\", c2)\n",
    "print(\"evenlist\", even)\n",
    "print(\"oddlist\", odd)\n",
    "\n",
    "\n",
    "            \n"
   ]
  },
  {
   "cell_type": "code",
   "execution_count": null,
   "metadata": {},
   "outputs": [],
   "source": [
    "arr=[\"zero\",\"one\",\"two\",\"three\",\"four\",\"five\",\"six\",\"seven\",\"eight\",\"nine\"]\n",
    "def num2words(n):\n",
    "    for i in n:\n",
    "        temp=int(i)\n",
    "        letter+=arr[temp]\n",
    "    return letter\n",
    "num2words(\"57\")\n"
   ]
  },
  {
   "cell_type": "code",
   "execution_count": null,
   "metadata": {},
   "outputs": [],
   "source": [
    "def summation(mean):\n",
    "    length=len(mean)\n",
    "    sum=0\n",
    "    for i in mean:\n",
    "        sum=sum+i\n",
    "    average=sum/length\n",
    "    return average\n",
    "summation([1,2,3])\n",
    "\n"
   ]
  },
  {
   "cell_type": "code",
   "execution_count": null,
   "metadata": {},
   "outputs": [],
   "source": [
    "def sorting(sort):\n",
    "    for i in range(0,len(sort)):\n",
    "        for j in range(i+1,len(sort)):\n",
    "            if sort[i]>sort[j]:\n",
    "                temp=sort[i]\n",
    "                sort[i]=sort[j]\n",
    "                sort[j]=temp\n",
    "    return (\"sorted array is\",sort)\n",
    "arraysort=sorting([20,11,5,22,69,1])\n",
    "print(\"sorted array is=\",arraysort)"
   ]
  },
  {
   "cell_type": "code",
   "execution_count": null,
   "metadata": {},
   "outputs": [],
   "source": [
    "#file handeling\n",
    "file=open(\"sample.txt\",\"w+\") #it creates a new file if not created or else open the file\n",
    "\n",
    "          \n"
   ]
  },
  {
   "cell_type": "code",
   "execution_count": null,
   "metadata": {},
   "outputs": [],
   "source": [
    "file.write(\"this is my first line to file from python,\\n\")\n"
   ]
  },
  {
   "cell_type": "code",
   "execution_count": null,
   "metadata": {},
   "outputs": [],
   "source": [
    "file.close()"
   ]
  },
  {
   "cell_type": "code",
   "execution_count": null,
   "metadata": {},
   "outputs": [],
   "source": [
    "file=open(\"sample.txt\",\"r+\")\n",
    "file.readline() #read a single line"
   ]
  },
  {
   "cell_type": "code",
   "execution_count": null,
   "metadata": {},
   "outputs": [],
   "source": [
    "file.readlines() #read multiple lines"
   ]
  },
  {
   "cell_type": "code",
   "execution_count": null,
   "metadata": {},
   "outputs": [],
   "source": [
    "#write a function in python that accepts your details and save it into file with your name\n",
    "def savedetails(name,location):\n",
    "    filename=name+\".txt\"\n",
    "    file=open(filename,\"w+\") #with open(\"gungun.txt\",\"w+\") as file: can also be used ,if we use this there is no need of file.close\n",
    "    file.write(\"NAME\\t:\\t\"+name)\n",
    "    file.write(\"\\nlocation\\t:\\t\"+location)\n",
    "    file.close()\n",
    "username=input(\"enter your name\")\n",
    "userlocation=input(\"enter you location\")\n",
    "savedetails(username,userlocation)"
   ]
  },
  {
   "cell_type": "code",
   "execution_count": null,
   "metadata": {},
   "outputs": [],
   "source": [
    "#WRITE A PROGRAM THAT WILL TAKE TWO OPERANDS AND AN OPERATOR AND PERFORMS THE CALCULATION AND GIVE THE RESULT.ALSO SAVE THE CALCULATIONS \n",
    "# THAT THE PROGRAM PERFORMS IN A FILE\n",
    "def operation(operand1,operand2,operator):\n",
    "    if(operator==\"+\"):\n",
    "        calc=int(operand1)+int(operand2)\n",
    "    elif(operator==\"-\"):\n",
    "        calc=int(operand1)-int(operand2)\n",
    "    elif(operator==\"*\"):\n",
    "        calc=int(operand1)*int(operand2)\n",
    "    elif(operator==\"/\"):\n",
    "        calc=int(operand1)/int(operand2)\n",
    "    elif(operator==\"%\"):\n",
    "        calc=int(operand1)%int(operand2)\n",
    "    else:\n",
    "        print(\"not any operator\")\n",
    "    print(calc)\n",
    "    with open(\"result.txt\",\"w+\") as file:\n",
    "        file.write(\"answer\\t:\"+calc)\n",
    "userinput1=input(\"enter operand1\")\n",
    "userinput2=input(\"enter operand2\")\n",
    "userinput3=input(\"enter operator\")\n",
    "operation(userinput1,userinput2,userinput3)\n"
   ]
  },
  {
   "cell_type": "code",
   "execution_count": null,
   "metadata": {},
   "outputs": [],
   "source": [
    "#while loop\n",
    "a=0\n",
    "while a<7:\n",
    "    res=a*a\n",
    "    print(a,res)\n",
    "    a=a+1\n",
    "    "
   ]
  },
  {
   "cell_type": "code",
   "execution_count": null,
   "metadata": {},
   "outputs": [],
   "source": [
    "#break:break out of a loop whenever a condition is satisfied\n",
    "for i in range(1,10,1):\n",
    "    if i==7:\n",
    "        break\n",
    "        continue\n",
    "    print(i)\n"
   ]
  },
  {
   "cell_type": "code",
   "execution_count": null,
   "metadata": {},
   "outputs": [],
   "source": [
    "#set\n",
    "list_ex=[\"ABC\",\"ABC\",\"CDF\",\"ABC\",\"EFD\",\"BCD\",\"NBG\"]\n",
    "set_ex=set(list_ex) #converting list to set\n",
    "back=list(set_ex)\n",
    "print(list_ex)\n",
    "print(set_ex)\n",
    "print(back) #coverting again set to list this time without repetition of elements that were earlier in list\n"
   ]
  },
  {
   "cell_type": "code",
   "execution_count": null,
   "metadata": {},
   "outputs": [],
   "source": [
    "#count a list of 10 names that are random and repeating from user identify the unique items and their count\n",
    "temp=input(\"enter names\")\n",
    "names=temp.split(',')\n",
    "print(names)\n",
    "unique_names=set(names)\n",
    "for search in unique_names:\n",
    "    count=0\n",
    "    for items in names:\n",
    "        if search==items:\n",
    "            count=count+1\n",
    "    print(search,count)\n",
    "    \n",
    "\n"
   ]
  },
  {
   "cell_type": "code",
   "execution_count": null,
   "metadata": {},
   "outputs": [],
   "source": [
    "#dictionary:used to store values in the form of key value pairs key(string):value(any data type)\n",
    "my_dict={\"Name\": \"Gungun\",\"phoneno\": 9129780709,\"email\": \"gungun19agnihotri@gmail.com\"}\n",
    "print(my_dict[\"Name\"])\n",
    "my_dict[\"Name\"]=\"Gungun\" #used to change the value of a particular key\n",
    "print(my_dict)\n",
    "\n"
   ]
  },
  {
   "cell_type": "code",
   "execution_count": null,
   "metadata": {},
   "outputs": [],
   "source": [
    "my_dict[\"Address\"]=\"CHRIST UNIVERSITY\" #to add new key value pair\n",
    "print(my_dict)\n",
    "my_dict.keys() #gives the keys \n",
    "my_dict.values() #gives the values"
   ]
  },
  {
   "cell_type": "code",
   "execution_count": null,
   "metadata": {},
   "outputs": [],
   "source": [
    "students={\"Names\":[\"Gungun\",\"Shivangi\",\"Suraj\",\"Anurag\"],\n",
    "            \"rollno\":[1,2,3,4]}\n",
    "#for name in students[\"Names\"]:\n",
    "   # print(name)\n",
    "print(students[\"Names\"][2])\n"
   ]
  },
  {
   "cell_type": "code",
   "execution_count": null,
   "metadata": {},
   "outputs": [],
   "source": [
    "students=[{\"NAME\":\"Abhay\",\n",
    "           \"rolln0\":1,\n",
    "           \"PHNO\":12345},\n",
    "           {\"NAME\":\"Adarsh\",\n",
    "            \"rollno\":2,\n",
    "            \"Phoneno\":12567}]\n"
   ]
  },
  {
   "cell_type": "code",
   "execution_count": null,
   "metadata": {},
   "outputs": [],
   "source": [
    "for details in students:\n",
    "    print(details)\n",
    "    for key in details.keys():\n",
    "        print(details[key])"
   ]
  },
  {
   "cell_type": "code",
   "execution_count": null,
   "metadata": {},
   "outputs": [],
   "source": [
    "#menudriven programs\n",
    "listNames=[]\n",
    "def storeName(name):\n",
    "    name=name.strip().title()\n",
    "    if name in listNames:\n",
    "        return False\n",
    "    else:\n",
    "        listNames.append(name)\n",
    "        return True\n",
    "def printNames():\n",
    "     print(\"*\"*30)\n",
    "     for name in listNames:\n",
    "         print(name)\n",
    "    print(\"*\"*30)\n",
    "for name in listNames:\n",
    "    print(name)\n",
    "    print(\"*\"*30)\n",
    "def searchName(name):\n",
    "    name=name.strip().title()\n",
    "    flag=False\n",
    "    for item in listNames:\n",
    "        if name==item:\n",
    "            flag=True\n",
    "            break\n",
    "        if flag==True:\n",
    "            print(\"Name exist in the list\")\n",
    "        else:\n",
    "            print(\"Name not found\")\n",
    "while True:\n",
    "    print(\"Menu options\")\n",
    "    print(\"*\"*30)\n",
    "    print(\"1.enter a Name\")\n",
    "    print(\"2.enter a\")\n",
    "    print(\"3.List all Names\")\n",
    "    print(\"4.Exit\")\n",
    "\n",
    "    choice=int(input(\"Enter your choice:\"))  \n",
    "    if choice==1:\n",
    "        userInp=input(\"enter a name\")\n",
    "        retVal=storeName(userInp)\n",
    "        if retVal==True:\n",
    "            print(\"Name added successfully\") \n",
    "        else:\n",
    "            print(\"Name exit in the list\") \n",
    "    elif choice==2:\n",
    "        userInp=input(\"Enter any name to be searched\")\n",
    "        searchName(userInp)\n",
    "    elif choice==3:\n",
    "        printNames()\n",
    "    elif choice==4:\n",
    "        exit()\n",
    "    else:\n",
    "        print(\"Invalid option\")"
   ]
  },
  {
   "cell_type": "code",
   "execution_count": null,
   "metadata": {},
   "outputs": [],
   "source": [
    "#create a menu driven program that collects students details\n",
    "#name,email,phoneno (use dictionary to store student details)\n",
    "#menu options\n",
    "#1. create students\n",
    "#2. search for students\n",
    "#3. print students\n",
    "studentsDict={}\n",
    "\n",
    "def createStudents(name,regno,email,phone):\n",
    "    students= {\n",
    "        \"Name\":name,\n",
    "        \"Email\":email,\n",
    "        \"Phoneno\":phone\n",
    "    }\n",
    "    studentsDict[regno]=students\n",
    "def collectstudentinfo():\n",
    "    name=input(\"Enter the name of student\")\n",
    "    regno=input(\"Enter student registration no\")\n",
    "    email=input(\"Enter student email\")\n",
    "    phone=input(\"Enter student phone no\")\n",
    "    return name,regno,email,phone\n",
    "def printStudents():\n",
    "    print(\"regno\\tname\\temail\\tphoneno\")\n",
    "    for regno in studentsDict.keys():\n",
    "        print(regno,end=\"\\t\")\n",
    "        for key in studentsDict[regno]:\n",
    "            print(studentsDict[regno][key],end='\\t')\n",
    "        print()\n",
    "def searchstudents(name):\n",
    "    \n",
    "while True:\n",
    "    print(\"Menu options\")\n",
    "    print(\"1:Enter student info\")\n",
    "    print(\"2:List Students\")\n",
    "    print(\"3:Exit\")\n",
    "    choice=input(\"Enter the choice\").strip()\n",
    "    if choice == \"1\":\n",
    "        name, regno, email, phone = collectstudentinfo()\n",
    "        createStudents(name, regno, email, phone)\n",
    "    elif choice == \"2\":\n",
    "        printStudents()\n",
    "    elif choice == \"3\":\n",
    "        exit()\n",
    "    else:\n",
    "        print(\"Invalid Choice\")\n",
    "\n",
    "\n",
    "\n"
   ]
  },
  {
   "cell_type": "code",
   "execution_count": null,
   "metadata": {},
   "outputs": [],
   "source": []
  }
 ],
 "metadata": {
  "kernelspec": {
   "display_name": "Python 3",
   "language": "python",
   "name": "python3"
  },
  "language_info": {
   "codemirror_mode": {
    "name": "ipython",
    "version": 3
   },
   "file_extension": ".py",
   "mimetype": "text/x-python",
   "name": "python",
   "nbconvert_exporter": "python",
   "pygments_lexer": "ipython3",
   "version": "3.8.3"
  },
  "orig_nbformat": 4
 },
 "nbformat": 4,
 "nbformat_minor": 2
}
